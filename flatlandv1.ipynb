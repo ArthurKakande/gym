{
 "cells": [
  {
   "cell_type": "code",
   "execution_count": null,
   "metadata": {},
   "outputs": [],
   "source": [
    "%pip install -U flatland-rl"
   ]
  },
  {
   "cell_type": "code",
   "execution_count": 13,
   "metadata": {},
   "outputs": [],
   "source": [
    "from flatland.envs.rail_env import RailEnv\n",
    "from flatland.envs.rail_generators import sparse_rail_generator\n",
    "from flatland.envs.line_generators import sparse_line_generator\n",
    "from flatland.envs.observations import GlobalObsForRailEnv\n",
    "\n",
    "\n",
    "rail_generator = sparse_rail_generator(max_num_cities=2)\n",
    "\n",
    "# Initialize the properties of the environment\n",
    "random_env = RailEnv(\n",
    "    width=24,\n",
    "    height=24,\n",
    "    number_of_agents=1,\n",
    "    rail_generator=rail_generator,\n",
    "    line_generator=sparse_line_generator(),\n",
    "    obs_builder_object=GlobalObsForRailEnv()\n",
    ")\n",
    "\n",
    "# Call reset() to initialize the environment\n",
    "observation, info = random_env.reset()"
   ]
  },
  {
   "cell_type": "code",
   "execution_count": 14,
   "metadata": {},
   "outputs": [
    {
     "ename": "OverflowError",
     "evalue": "Python integer -3841 out of bounds for uint16",
     "output_type": "error",
     "traceback": [
      "\u001b[0;31m---------------------------------------------------------------------------\u001b[0m",
      "\u001b[0;31mOverflowError\u001b[0m                             Traceback (most recent call last)",
      "Cell \u001b[0;32mIn[14], line 17\u001b[0m\n\u001b[1;32m     14\u001b[0m     clear_output(wait\u001b[38;5;241m=\u001b[39m\u001b[38;5;28;01mTrue\u001b[39;00m)\n\u001b[1;32m     15\u001b[0m     display(pil_image)\n\u001b[0;32m---> 17\u001b[0m \u001b[43mrender_env\u001b[49m\u001b[43m(\u001b[49m\u001b[43mrandom_env\u001b[49m\u001b[43m)\u001b[49m\n",
      "Cell \u001b[0;32mIn[14], line 9\u001b[0m, in \u001b[0;36mrender_env\u001b[0;34m(env, wait)\u001b[0m\n\u001b[1;32m      7\u001b[0m \u001b[38;5;28;01mdef\u001b[39;00m \u001b[38;5;21mrender_env\u001b[39m(env,wait\u001b[38;5;241m=\u001b[39m\u001b[38;5;28;01mTrue\u001b[39;00m):\n\u001b[0;32m----> 9\u001b[0m     env_renderer \u001b[38;5;241m=\u001b[39m \u001b[43mRenderTool\u001b[49m\u001b[43m(\u001b[49m\u001b[43menv\u001b[49m\u001b[43m,\u001b[49m\u001b[43m \u001b[49m\u001b[43mgl\u001b[49m\u001b[38;5;241;43m=\u001b[39;49m\u001b[38;5;124;43m\"\u001b[39;49m\u001b[38;5;124;43mPILSVG\u001b[39;49m\u001b[38;5;124;43m\"\u001b[39;49m\u001b[43m)\u001b[49m\n\u001b[1;32m     10\u001b[0m     env_renderer\u001b[38;5;241m.\u001b[39mrender_env()\n\u001b[1;32m     12\u001b[0m     image \u001b[38;5;241m=\u001b[39m env_renderer\u001b[38;5;241m.\u001b[39mget_image()\n",
      "File \u001b[0;32m/usr/local/python/3.12.1/lib/python3.12/site-packages/flatland/utils/rendertools.py:43\u001b[0m, in \u001b[0;36mRenderTool.__init__\u001b[0;34m(self, env, gl, jupyter, agent_render_variant, show_debug, clear_debug_text, screen_width, screen_height, host, port)\u001b[0m\n\u001b[1;32m     40\u001b[0m \u001b[38;5;28mself\u001b[39m\u001b[38;5;241m.\u001b[39magent_render_variant \u001b[38;5;241m=\u001b[39m agent_render_variant\n\u001b[1;32m     42\u001b[0m \u001b[38;5;28;01mif\u001b[39;00m gl \u001b[38;5;129;01min\u001b[39;00m [\u001b[38;5;124m\"\u001b[39m\u001b[38;5;124mPIL\u001b[39m\u001b[38;5;124m\"\u001b[39m, \u001b[38;5;124m\"\u001b[39m\u001b[38;5;124mPILSVG\u001b[39m\u001b[38;5;124m\"\u001b[39m, \u001b[38;5;124m\"\u001b[39m\u001b[38;5;124mPGL\u001b[39m\u001b[38;5;124m\"\u001b[39m]:\n\u001b[0;32m---> 43\u001b[0m     \u001b[38;5;28mself\u001b[39m\u001b[38;5;241m.\u001b[39mrenderer \u001b[38;5;241m=\u001b[39m \u001b[43mRenderLocal\u001b[49m\u001b[43m(\u001b[49m\u001b[43menv\u001b[49m\u001b[43m,\u001b[49m\u001b[43m \u001b[49m\u001b[43mgl\u001b[49m\u001b[43m,\u001b[49m\u001b[43m \u001b[49m\u001b[43mjupyter\u001b[49m\u001b[43m,\u001b[49m\n\u001b[1;32m     44\u001b[0m \u001b[43m         \u001b[49m\u001b[43magent_render_variant\u001b[49m\u001b[43m,\u001b[49m\n\u001b[1;32m     45\u001b[0m \u001b[43m         \u001b[49m\u001b[43mshow_debug\u001b[49m\u001b[43m,\u001b[49m\u001b[43m \u001b[49m\u001b[43mclear_debug_text\u001b[49m\u001b[43m,\u001b[49m\u001b[43m \u001b[49m\u001b[43mscreen_width\u001b[49m\u001b[43m,\u001b[49m\u001b[43m \u001b[49m\u001b[43mscreen_height\u001b[49m\u001b[43m)\u001b[49m\n\u001b[1;32m     46\u001b[0m     \u001b[38;5;28mself\u001b[39m\u001b[38;5;241m.\u001b[39mgl \u001b[38;5;241m=\u001b[39m \u001b[38;5;28mself\u001b[39m\u001b[38;5;241m.\u001b[39mrenderer\u001b[38;5;241m.\u001b[39mgl\n\u001b[1;32m     47\u001b[0m \u001b[38;5;28;01melse\u001b[39;00m:\n",
      "File \u001b[0;32m/usr/local/python/3.12.1/lib/python3.12/site-packages/flatland/utils/rendertools.py:160\u001b[0m, in \u001b[0;36mRenderLocal.__init__\u001b[0;34m(self, env, gl, jupyter, agent_render_variant, show_debug, clear_debug_text, screen_width, screen_height)\u001b[0m\n\u001b[1;32m    158\u001b[0m     \u001b[38;5;28mself\u001b[39m\u001b[38;5;241m.\u001b[39mgl \u001b[38;5;241m=\u001b[39m PILGL(env\u001b[38;5;241m.\u001b[39mwidth, env\u001b[38;5;241m.\u001b[39mheight, jupyter, screen_width\u001b[38;5;241m=\u001b[39mscreen_width, screen_height\u001b[38;5;241m=\u001b[39mscreen_height)\n\u001b[1;32m    159\u001b[0m \u001b[38;5;28;01melif\u001b[39;00m gl \u001b[38;5;241m==\u001b[39m \u001b[38;5;124m\"\u001b[39m\u001b[38;5;124mPILSVG\u001b[39m\u001b[38;5;124m\"\u001b[39m:\n\u001b[0;32m--> 160\u001b[0m     \u001b[38;5;28mself\u001b[39m\u001b[38;5;241m.\u001b[39mgl \u001b[38;5;241m=\u001b[39m \u001b[43mPILSVG\u001b[49m\u001b[43m(\u001b[49m\u001b[43menv\u001b[49m\u001b[38;5;241;43m.\u001b[39;49m\u001b[43mwidth\u001b[49m\u001b[43m,\u001b[49m\u001b[43m \u001b[49m\u001b[43menv\u001b[49m\u001b[38;5;241;43m.\u001b[39;49m\u001b[43mheight\u001b[49m\u001b[43m,\u001b[49m\u001b[43m \u001b[49m\u001b[43mjupyter\u001b[49m\u001b[43m,\u001b[49m\u001b[43m \u001b[49m\u001b[43mscreen_width\u001b[49m\u001b[38;5;241;43m=\u001b[39;49m\u001b[43mscreen_width\u001b[49m\u001b[43m,\u001b[49m\u001b[43m \u001b[49m\u001b[43mscreen_height\u001b[49m\u001b[38;5;241;43m=\u001b[39;49m\u001b[43mscreen_height\u001b[49m\u001b[43m)\u001b[49m\n\u001b[1;32m    161\u001b[0m \u001b[38;5;28;01melse\u001b[39;00m:\n\u001b[1;32m    162\u001b[0m     \u001b[38;5;28;01mif\u001b[39;00m gl \u001b[38;5;241m!=\u001b[39m \u001b[38;5;124m\"\u001b[39m\u001b[38;5;124mPGL\u001b[39m\u001b[38;5;124m\"\u001b[39m:\n",
      "File \u001b[0;32m/usr/local/python/3.12.1/lib/python3.12/site-packages/flatland/utils/graphics_pil.py:269\u001b[0m, in \u001b[0;36mPILSVG.__init__\u001b[0;34m(self, width, height, jupyter, screen_width, screen_height)\u001b[0m\n\u001b[1;32m    267\u001b[0m \u001b[38;5;28mself\u001b[39m\u001b[38;5;241m.\u001b[39mload_buildings()\n\u001b[1;32m    268\u001b[0m \u001b[38;5;28mself\u001b[39m\u001b[38;5;241m.\u001b[39mload_scenery()\n\u001b[0;32m--> 269\u001b[0m \u001b[38;5;28;43mself\u001b[39;49m\u001b[38;5;241;43m.\u001b[39;49m\u001b[43mload_rail\u001b[49m\u001b[43m(\u001b[49m\u001b[43m)\u001b[49m\n\u001b[1;32m    270\u001b[0m \u001b[38;5;28mself\u001b[39m\u001b[38;5;241m.\u001b[39mload_agent()\n",
      "File \u001b[0;32m/usr/local/python/3.12.1/lib/python3.12/site-packages/flatland/utils/graphics_pil.py:414\u001b[0m, in \u001b[0;36mPILSVG.load_rail\u001b[0;34m(self)\u001b[0m\n\u001b[1;32m    405\u001b[0m target_files \u001b[38;5;241m=\u001b[39m {\n\u001b[1;32m    406\u001b[0m     \u001b[38;5;124m\"\u001b[39m\u001b[38;5;124mEW\u001b[39m\u001b[38;5;124m\"\u001b[39m: \u001b[38;5;124m\"\u001b[39m\u001b[38;5;124mBahnhof_#d50000_Deadend_links.png\u001b[39m\u001b[38;5;124m\"\u001b[39m,\n\u001b[1;32m    407\u001b[0m     \u001b[38;5;124m\"\u001b[39m\u001b[38;5;124mNS\u001b[39m\u001b[38;5;124m\"\u001b[39m: \u001b[38;5;124m\"\u001b[39m\u001b[38;5;124mBahnhof_#d50000_Deadend_oben.png\u001b[39m\u001b[38;5;124m\"\u001b[39m,\n\u001b[0;32m   (...)\u001b[0m\n\u001b[1;32m    410\u001b[0m     \u001b[38;5;124m\"\u001b[39m\u001b[38;5;124mEE WW\u001b[39m\u001b[38;5;124m\"\u001b[39m: \u001b[38;5;124m\"\u001b[39m\u001b[38;5;124mBahnhof_#d50000_Gleis_horizontal.png\u001b[39m\u001b[38;5;124m\"\u001b[39m,\n\u001b[1;32m    411\u001b[0m     \u001b[38;5;124m\"\u001b[39m\u001b[38;5;124mNN SS\u001b[39m\u001b[38;5;124m\"\u001b[39m: \u001b[38;5;124m\"\u001b[39m\u001b[38;5;124mBahnhof_#d50000_Gleis_vertikal.png\u001b[39m\u001b[38;5;124m\"\u001b[39m}\n\u001b[1;32m    413\u001b[0m \u001b[38;5;66;03m# Dict of rail cell images indexed by binary transitions\u001b[39;00m\n\u001b[0;32m--> 414\u001b[0m pil_rail_files_org \u001b[38;5;241m=\u001b[39m \u001b[38;5;28;43mself\u001b[39;49m\u001b[38;5;241;43m.\u001b[39;49m\u001b[43mload_pngs\u001b[49m\u001b[43m(\u001b[49m\u001b[43mrail_files\u001b[49m\u001b[43m,\u001b[49m\u001b[43m \u001b[49m\u001b[43mrotate\u001b[49m\u001b[38;5;241;43m=\u001b[39;49m\u001b[38;5;28;43;01mTrue\u001b[39;49;00m\u001b[43m)\u001b[49m\n\u001b[1;32m    415\u001b[0m pil_rail_files \u001b[38;5;241m=\u001b[39m \u001b[38;5;28mself\u001b[39m\u001b[38;5;241m.\u001b[39mload_pngs(rail_files, rotate\u001b[38;5;241m=\u001b[39m\u001b[38;5;28;01mTrue\u001b[39;00m, background_image\u001b[38;5;241m=\u001b[39m\u001b[38;5;124m\"\u001b[39m\u001b[38;5;124mBackground_rail.png\u001b[39m\u001b[38;5;124m\"\u001b[39m,\n\u001b[1;32m    416\u001b[0m                                 whitefilter\u001b[38;5;241m=\u001b[39m\u001b[38;5;124m\"\u001b[39m\u001b[38;5;124mBackground_white_filter.png\u001b[39m\u001b[38;5;124m\"\u001b[39m)\n\u001b[1;32m    418\u001b[0m \u001b[38;5;66;03m# Load the target files (which have rails and transitions of their own)\u001b[39;00m\n\u001b[1;32m    419\u001b[0m \u001b[38;5;66;03m# They are indexed by (binTrans, iAgent), ie a tuple of the binary transition and the agent index\u001b[39;00m\n",
      "File \u001b[0;32m/usr/local/python/3.12.1/lib/python3.12/site-packages/flatland/utils/graphics_pil.py:473\u001b[0m, in \u001b[0;36mPILSVG.load_pngs\u001b[0;34m(self, file_directory, rotate, agent_colors, background_image, whitefilter)\u001b[0m\n\u001b[1;32m    471\u001b[0m \u001b[38;5;66;03m# Rotate both the transition binary and the image and save in the dict\u001b[39;00m\n\u001b[1;32m    472\u001b[0m \u001b[38;5;28;01mfor\u001b[39;00m nRot \u001b[38;5;129;01min\u001b[39;00m [\u001b[38;5;241m90\u001b[39m, \u001b[38;5;241m180\u001b[39m, \u001b[38;5;241m270\u001b[39m]:\n\u001b[0;32m--> 473\u001b[0m     binary_trans_2 \u001b[38;5;241m=\u001b[39m \u001b[43mtransitions\u001b[49m\u001b[38;5;241;43m.\u001b[39;49m\u001b[43mrotate_transition\u001b[49m\u001b[43m(\u001b[49m\u001b[43mbinary_trans\u001b[49m\u001b[43m,\u001b[49m\u001b[43m \u001b[49m\u001b[43mnRot\u001b[49m\u001b[43m)\u001b[49m\n\u001b[1;32m    475\u001b[0m     \u001b[38;5;66;03m# PIL rotates anticlockwise for positive theta\u001b[39;00m\n\u001b[1;32m    476\u001b[0m     pil_rail_2 \u001b[38;5;241m=\u001b[39m pil_rail\u001b[38;5;241m.\u001b[39mrotate(\u001b[38;5;241m-\u001b[39mnRot)\n",
      "File \u001b[0;32m/usr/local/python/3.12.1/lib/python3.12/site-packages/flatland/core/grid/grid4.py:259\u001b[0m, in \u001b[0;36mGrid4Transitions.rotate_transition\u001b[0;34m(self, cell_transition, rotation)\u001b[0m\n\u001b[1;32m    239\u001b[0m \u001b[38;5;250m\u001b[39m\u001b[38;5;124;03m\"\"\"\u001b[39;00m\n\u001b[1;32m    240\u001b[0m \u001b[38;5;124;03mClockwise-rotate a 16-bit transition bitmap by\u001b[39;00m\n\u001b[1;32m    241\u001b[0m \u001b[38;5;124;03mrotation={0, 90, 180, 270} degrees.\u001b[39;00m\n\u001b[0;32m   (...)\u001b[0m\n\u001b[1;32m    256\u001b[0m \n\u001b[1;32m    257\u001b[0m \u001b[38;5;124;03m\"\"\"\u001b[39;00m\n\u001b[1;32m    258\u001b[0m \u001b[38;5;66;03m# Rotate the individual bits in each block\u001b[39;00m\n\u001b[0;32m--> 259\u001b[0m \u001b[38;5;28;01mreturn\u001b[39;00m \u001b[43mfast_grid4_rotate_transition\u001b[49m\u001b[43m(\u001b[49m\u001b[43mcell_transition\u001b[49m\u001b[43m,\u001b[49m\u001b[43m \u001b[49m\u001b[43mrotation\u001b[49m\u001b[43m)\u001b[49m\n",
      "File \u001b[0;32m/usr/local/python/3.12.1/lib/python3.12/site-packages/flatland/core/grid/grid4.py:57\u001b[0m, in \u001b[0;36mfast_grid4_rotate_transition\u001b[0;34m(cell_transition, rotation)\u001b[0m\n\u001b[1;32m     55\u001b[0m     block_tuple \u001b[38;5;241m=\u001b[39m fast_grid4_get_transitions(value, i)\n\u001b[1;32m     56\u001b[0m     block_tuple \u001b[38;5;241m=\u001b[39m block_tuple[(\u001b[38;5;241m4\u001b[39m \u001b[38;5;241m-\u001b[39m rotation):] \u001b[38;5;241m+\u001b[39m block_tuple[:(\u001b[38;5;241m4\u001b[39m \u001b[38;5;241m-\u001b[39m rotation)]\n\u001b[0;32m---> 57\u001b[0m     value \u001b[38;5;241m=\u001b[39m \u001b[43mfast_grid4_set_transitions\u001b[49m\u001b[43m(\u001b[49m\u001b[43mvalue\u001b[49m\u001b[43m,\u001b[49m\u001b[43m \u001b[49m\u001b[43mi\u001b[49m\u001b[43m,\u001b[49m\u001b[43m \u001b[49m\u001b[43mblock_tuple\u001b[49m\u001b[43m)\u001b[49m\n\u001b[1;32m     59\u001b[0m \u001b[38;5;66;03m# Rotate the 4-bits blocks\u001b[39;00m\n\u001b[1;32m     60\u001b[0m value \u001b[38;5;241m=\u001b[39m ((value \u001b[38;5;241m&\u001b[39m (\u001b[38;5;241m2\u001b[39m \u001b[38;5;241m*\u001b[39m\u001b[38;5;241m*\u001b[39m (rotation \u001b[38;5;241m*\u001b[39m \u001b[38;5;241m4\u001b[39m) \u001b[38;5;241m-\u001b[39m \u001b[38;5;241m1\u001b[39m)) \u001b[38;5;241m<<\u001b[39m ((\u001b[38;5;241m4\u001b[39m \u001b[38;5;241m-\u001b[39m rotation) \u001b[38;5;241m*\u001b[39m \u001b[38;5;241m4\u001b[39m)) \u001b[38;5;241m|\u001b[39m (\n\u001b[1;32m     61\u001b[0m     value \u001b[38;5;241m>>\u001b[39m (rotation \u001b[38;5;241m*\u001b[39m \u001b[38;5;241m4\u001b[39m))\n",
      "File \u001b[0;32m/usr/local/python/3.12.1/lib/python3.12/site-packages/flatland/core/grid/grid4.py:35\u001b[0m, in \u001b[0;36mfast_grid4_set_transitions\u001b[0;34m(cell_transition, orientation, new_transitions)\u001b[0m\n\u001b[1;32m     27\u001b[0m negmask \u001b[38;5;241m=\u001b[39m \u001b[38;5;241m~\u001b[39mmask\n\u001b[1;32m     29\u001b[0m new_transitions \u001b[38;5;241m=\u001b[39m \\\n\u001b[1;32m     30\u001b[0m     (new_transitions[\u001b[38;5;241m0\u001b[39m] \u001b[38;5;241m&\u001b[39m \u001b[38;5;241m1\u001b[39m) \u001b[38;5;241m<<\u001b[39m \u001b[38;5;241m3\u001b[39m \u001b[38;5;241m|\u001b[39m \\\n\u001b[1;32m     31\u001b[0m     (new_transitions[\u001b[38;5;241m1\u001b[39m] \u001b[38;5;241m&\u001b[39m \u001b[38;5;241m1\u001b[39m) \u001b[38;5;241m<<\u001b[39m \u001b[38;5;241m2\u001b[39m \u001b[38;5;241m|\u001b[39m \\\n\u001b[1;32m     32\u001b[0m     (new_transitions[\u001b[38;5;241m2\u001b[39m] \u001b[38;5;241m&\u001b[39m \u001b[38;5;241m1\u001b[39m) \u001b[38;5;241m<<\u001b[39m \u001b[38;5;241m1\u001b[39m \u001b[38;5;241m|\u001b[39m \\\n\u001b[1;32m     33\u001b[0m     (new_transitions[\u001b[38;5;241m3\u001b[39m] \u001b[38;5;241m&\u001b[39m \u001b[38;5;241m1\u001b[39m)\n\u001b[0;32m---> 35\u001b[0m cell_transition \u001b[38;5;241m=\u001b[39m (\u001b[43mcell_transition\u001b[49m\u001b[43m \u001b[49m\u001b[38;5;241;43m&\u001b[39;49m\u001b[43m \u001b[49m\u001b[43mnegmask\u001b[49m) \u001b[38;5;241m|\u001b[39m (new_transitions \u001b[38;5;241m<<\u001b[39m ((\u001b[38;5;241m3\u001b[39m \u001b[38;5;241m-\u001b[39m orientation) \u001b[38;5;241m*\u001b[39m \u001b[38;5;241m4\u001b[39m))\n\u001b[1;32m     37\u001b[0m \u001b[38;5;28;01mreturn\u001b[39;00m cell_transition\n",
      "\u001b[0;31mOverflowError\u001b[0m: Python integer -3841 out of bounds for uint16"
     ]
    }
   ],
   "source": [
    "import PIL\n",
    "from flatland.utils.rendertools import RenderTool\n",
    "from IPython.display import clear_output\n",
    "\n",
    "\n",
    "# Render the environment\n",
    "def render_env(env,wait=True):\n",
    "    \n",
    "    env_renderer = RenderTool(env, gl=\"PILSVG\")\n",
    "    env_renderer.render_env()\n",
    "\n",
    "    image = env_renderer.get_image()\n",
    "    pil_image = PIL.Image.fromarray(image)\n",
    "    clear_output(wait=True)\n",
    "    display(pil_image)\n",
    "\n",
    "render_env(random_env)"
   ]
  },
  {
   "cell_type": "code",
   "execution_count": 9,
   "metadata": {},
   "outputs": [
    {
     "name": "stdout",
     "output_type": "stream",
     "text": [
      "Agent 0 will perform action 3 (R)\n",
      "Rewards for each agent: {0: 0}\n",
      "Done for each agent: {0: False, '__all__': False}\n",
      "Misc info: {'action_required': {0: True}, 'malfunction': {0: 0}, 'speed': {0: 1.0}, 'state': {0: <TrainState.READY_TO_DEPART: 1>}}\n"
     ]
    }
   ],
   "source": [
    "class RandomController:\n",
    "    def __init__(self, action_size):\n",
    "        self.action_size = action_size\n",
    "\n",
    "    def act(self, observations):\n",
    "        actions = dict()\n",
    "        for agent_handle, observation in enumerate(observations):\n",
    "            action = np.random.randint(self.action_size)\n",
    "            actions.update({agent_handle: action})\n",
    "        return actions\n",
    "\n",
    "from flatland.envs.rail_env import RailEnvActions\n",
    "\n",
    "controller = RandomController(random_env.action_space[0])\n",
    "observations, info = random_env.reset()\n",
    "actions = controller.act(observations)\n",
    "\n",
    "# Perform a single action per agent\n",
    "for (handle, action) in actions.items():\n",
    "    print('Agent {} will perform action {} ({})'.format(handle, action, RailEnvActions.to_char(action)))\n",
    "    next_obs, all_rewards, dones, info = random_env.step({handle: action})\n",
    "\n",
    "print('Rewards for each agent: {}'.format(all_rewards))\n",
    "print('Done for each agent: {}'.format(dones))\n",
    "print('Misc info: {}'.format(info))"
   ]
  },
  {
   "cell_type": "code",
   "execution_count": 10,
   "metadata": {},
   "outputs": [],
   "source": [
    "def run_episode(env):\n",
    "    controller = RandomController(env.action_space[0])\n",
    "    observations, info = env.reset()\n",
    "\n",
    "    score = 0\n",
    "    actions = dict()\n",
    "\n",
    "    for step in range(50):\n",
    "\n",
    "        actions = controller.act(observations)\n",
    "        next_observations, all_rewards, dones, info = env.step(actions)\n",
    "        for agent_handle in env.get_agent_handles():\n",
    "            score += all_rewards[agent_handle]\n",
    "\n",
    "        render_env(env)\n",
    "        print('Timestep {}, total score = {}'.format(step, score))\n",
    "\n",
    "        if dones['__all__']:\n",
    "            print('All done!')\n",
    "            return\n",
    "\n",
    "    print(\"Episode didn't finish after 50 timesteps.\")"
   ]
  },
  {
   "cell_type": "code",
   "execution_count": null,
   "metadata": {},
   "outputs": [],
   "source": [
    "run_episode(random_env)"
   ]
  }
 ],
 "metadata": {
  "kernelspec": {
   "display_name": "Python 3",
   "language": "python",
   "name": "python3"
  },
  "language_info": {
   "codemirror_mode": {
    "name": "ipython",
    "version": 3
   },
   "file_extension": ".py",
   "mimetype": "text/x-python",
   "name": "python",
   "nbconvert_exporter": "python",
   "pygments_lexer": "ipython3",
   "version": "3.12.1"
  }
 },
 "nbformat": 4,
 "nbformat_minor": 2
}
